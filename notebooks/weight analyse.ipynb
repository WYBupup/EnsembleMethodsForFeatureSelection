{
 "cells": [
  {
   "cell_type": "code",
   "execution_count": 1,
   "metadata": {},
   "outputs": [
    {
     "name": "stdout",
     "output_type": "stream",
     "text": [
      "/home/alx-ubu/Studium/NNP/NeuralNetworksProject\n"
     ]
    }
   ],
   "source": [
    "import os\n",
    "os.chdir('../')\n",
    "print(os.getcwd())\n",
    "%matplotlib inline\n",
    "from analyse_weights import AnalyseBenchmarkResults\n",
    "from feature_selector import SymmetricalUncertainty, Relief, SVM_RFE, LassoFeatureSelector"
   ]
  },
  {
   "cell_type": "code",
   "execution_count": 2,
   "metadata": {
    "scrolled": false
   },
   "outputs": [],
   "source": [
    "feature_selectors = [\n",
    "    SymmetricalUncertainty(),\n",
    "    Relief(),\n",
    "    SVM_RFE(),\n",
    "    LassoFeatureSelector()\n",
    "]\n",
    "\n",
    "analysis = AnalyseBenchmarkResults(feature_selectors)\n",
    "analysis.run(\"artificial\")"
   ]
  }
 ],
 "metadata": {
  "kernelspec": {
   "display_name": "Python 3",
   "language": "python",
   "name": "python3"
  },
  "language_info": {
   "codemirror_mode": {
    "name": "ipython",
    "version": 3
   },
   "file_extension": ".py",
   "mimetype": "text/x-python",
   "name": "python",
   "nbconvert_exporter": "python",
   "pygments_lexer": "ipython3",
   "version": "3.7.4"
  },
  "widgets": {
   "state": {},
   "version": "1.1.0"
  }
 },
 "nbformat": 4,
 "nbformat_minor": 1
}

{
 "cells": [
  {
   "cell_type": "code",
   "execution_count": 8,
   "metadata": {
    "collapsed": true
   },
   "outputs": [],
   "source": [
    "import sys\n",
    "sys.path.append('../')"
   ]
  },
  {
   "cell_type": "code",
   "execution_count": 9,
   "metadata": {},
   "outputs": [],
   "source": [
    "import numpy as np\n",
    "from experiments import RobustnessExperiment\n",
    "from ensemble_methods import Stacking\n",
    "from feature_ranking import SymmetricalUncertainty  \n",
    "from feature_ranking import Relief\n",
    "from feature_ranking import SVM_RFE\n",
    "from robustness_measure import Spearman \n",
    "from robustness_measure import JaccardIndex\n",
    "# classifiers\n",
    "from sklearn.neighbors import KNeighborsClassifier\n",
    "from sklearn.svm import SVC\n",
    "from sklearn.ensemble import RandomForestClassifier"
   ]
  },
  {
   "cell_type": "code",
   "execution_count": 10,
   "metadata": {},
   "outputs": [],
   "source": [
    "feature_rankings = [SymmetricalUncertainty(),\n",
    "                    Relief(),\n",
    "                    SVM_RFE(),\n",
    "                    Stacking([SymmetricalUncertainty(),\n",
    "                    Relief(),\n",
    "                    SVM_RFE()\n",
    "                   ])\n",
    "                   ]\n",
    "robustness_measures = [Spearman(),\n",
    "                       JaccardIndex(percentage = 0.01),\n",
    "                       JaccardIndex(percentage = 0.05)]\n",
    "classifiers = [KNeighborsClassifier(3),\n",
    "               SVC(kernel=\"linear\", C=0.025),\n",
    "               RandomForestClassifier(max_depth=5, n_estimators=10, max_features=1)]\n",
    "\n",
    "import warnings\n",
    "warnings.filterwarnings('ignore')\n",
    "\n",
    "robustness_experiment = RobustnessExperiment(robustness_measures, feature_rankings)"
   ]
  },
  {
   "cell_type": "code",
   "execution_count": 11,
   "metadata": {
    "collapsed": true
   },
   "outputs": [],
   "source": [
    "# data\n",
    "import sklearn.datasets\n",
    "mnist = sklearn.datasets.load_digits()\n",
    "data = mnist.data.T[:,:500]\n",
    "classes = mnist.target[:500]"
   ]
  },
  {
   "cell_type": "code",
   "execution_count": 12,
   "metadata": {},
   "outputs": [
    {
     "name": "stdout",
     "output_type": "stream",
     "text": [
      "CPU times: user 79.3 ms, sys: 205 ms, total: 284 ms\n",
      "Wall time: 13.1 s\n",
      "Robustness Experiment : \n",
      "|                      | SymmetricalUncertainty   | Relief   | SVM_RFE   | Stacking - mean   |\n",
      "|:---------------------|:-------------------------|:---------|:----------|:------------------|\n",
      "| Spearman Coefficient | 99.33%                   | 99.77%   | 96.92%    | 98.89%            |\n",
      "| Jaccard Index 1.00%  | 22.22%                   | 100.00%  | 28.89%    | 100.00%           |\n",
      "| Jaccard Index 5.00%  | 51.28%                   | 79.56%   | 33.93%    | 58.98%            |\n"
     ]
    }
   ],
   "source": [
    "%time robustness_experiment.run(data, classes)\n",
    "robustness_experiment.print_results()"
   ]
  },
  {
   "cell_type": "code",
   "execution_count": 29,
   "metadata": {
    "collapsed": true
   },
   "outputs": [],
   "source": [
    "data = np.loadtxt('../data/gisette_train.data').T[:,:500]\n",
    "classes = np.loadtxt('../data/gisette_train.labels')[:500]"
   ]
  },
  {
   "cell_type": "code",
   "execution_count": null,
   "metadata": {
    "collapsed": true
   },
   "outputs": [],
   "source": [
    "%time robustness_experiment.run(data, classes)\n",
    "robustness_experiment.print_results()"
   ]
  },
  {
   "cell_type": "code",
   "execution_count": 18,
   "metadata": {},
   "outputs": [],
   "source": [
    "# Colon data\n",
    "data = np.loadtxt('../data/colon.data')\n",
    "classes = np.sign(np.loadtxt('../data/colon.labels'))"
   ]
  },
  {
   "cell_type": "code",
   "execution_count": 15,
   "metadata": {},
   "outputs": [
    {
     "name": "stdout",
     "output_type": "stream",
     "text": [
      "CPU times: user 70.9 ms, sys: 144 ms, total: 215 ms\n",
      "Wall time: 25.7 s\n",
      "Robustness Experiment : \n",
      "|                      | SymmetricalUncertainty   | Relief   | SVM_RFE   |\n",
      "|:---------------------|:-------------------------|:---------|:----------|\n",
      "| Spearman Coefficient | 99.46%                   | 61.47%   | 75.19%    |\n",
      "| Jaccard Index 1.00%  | 78.29%                   | 62.97%   | 54.89%    |\n",
      "| Jaccard Index 5.00%  | 95.41%                   | 64.44%   | 59.64%    |\n"
     ]
    }
   ],
   "source": [
    "%time robustness_experiment.run(data, classes)\n",
    "robustness_experiment.print_results()"
   ]
  },
  {
   "cell_type": "code",
   "execution_count": 33,
   "metadata": {
    "collapsed": true
   },
   "outputs": [],
   "source": [
    "# arcene data\n",
    "data = np.loadtxt('../data/arcene_train.data').T\n",
    "classes = np.loadtxt('../data/arcene_train.labels')"
   ]
  },
  {
   "cell_type": "code",
   "execution_count": null,
   "metadata": {
    "collapsed": true
   },
   "outputs": [],
   "source": [
    "%time robustness_experiment.run(data, classes)\n",
    "robustness_experiment.print_results()"
   ]
  },
  {
   "cell_type": "code",
   "execution_count": null,
   "metadata": {
    "collapsed": true
   },
   "outputs": [],
   "source": []
  }
 ],
 "metadata": {
  "kernelspec": {
   "display_name": "Python 3",
   "language": "python",
   "name": "python3"
  },
  "language_info": {
   "codemirror_mode": {
    "name": "ipython",
    "version": 3
   },
   "file_extension": ".py",
   "mimetype": "text/x-python",
   "name": "python",
   "nbconvert_exporter": "python",
   "pygments_lexer": "ipython3",
   "version": "3.7.4"
  },
  "widgets": {
   "state": {},
   "version": "1.1.0"
  }
 },
 "nbformat": 4,
 "nbformat_minor": 1
}
